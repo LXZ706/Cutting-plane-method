{
 "cells": [
  {
   "cell_type": "code",
   "execution_count": 4,
   "id": "6879b6ce",
   "metadata": {},
   "outputs": [],
   "source": [
    "# location: n * n square region\n",
    "# 3 time periods: morning afternoon evening\n",
    "# 50% of the locations at t1 and t3 are forced to be the same\n",
    "# which means most EV users will be at the same locations(residential areas) in the mornings and late evenings\n",
    "# ss is the scale\n",
    "import pandas as pd\n",
    "import numpy as np"
   ]
  },
  {
   "cell_type": "code",
   "execution_count": 5,
   "id": "9c8aa8cd",
   "metadata": {},
   "outputs": [],
   "source": [
    "def DataGeneration(n,m,r=3,ss=1):\n",
    "    xy1 = np.around((ss*n)*np.random.rand(n,2),2)\n",
    "    xy2 = np.around((ss*n)*np.random.rand(n,2),2)\n",
    "    xy3 = np.concatenate((xy1[:int(n/2)]+0.1,np.around((ss*n)*np.random.rand(int(n/2),2),2)), axis=0)\n",
    "    xy = np.concatenate((xy1,xy2,xy3),axis=1)\n",
    "    xy_cs = np.around((ss*n)*np.random.rand(m,2),2)\n",
    "    alpha = np.around(np.random.rand(n),2)\n",
    "    P = np.random.choice(np.array([3,4,5]),size = (n,r))\n",
    "    xy_df = pd.DataFrame(xy,columns = ['x1','y1','x2','y2','x3','y3'])\n",
    "    xy_cs_df = pd.DataFrame(xy_cs,columns = ['x','y'])\n",
    "    alpha_df = pd.DataFrame(alpha,columns = ['alpha'])\n",
    "    P_df = pd.DataFrame(P,columns = ['t1','t2','t3'])\n",
    "    xy_df.to_csv(\"./Users coordinates_{0}_{1}.csv\".format(n,m),index=None)\n",
    "    xy_cs_df.to_csv(\"./CS candidates coordinates_{0}_{1}.csv\".format(n,m),index=None)\n",
    "    alpha_df.to_csv(\"./alpha_{0}_{1}.csv\".format(n,m),index=None)\n",
    "    P_df.to_csv(\"./P_{0}_{1}.csv\".format(n,m),index=None)"
   ]
  },
  {
   "cell_type": "code",
   "execution_count": 14,
   "id": "4b0d0d2e",
   "metadata": {},
   "outputs": [],
   "source": [
    "#DataGeneration(140,16,3,1)"
   ]
  },
  {
   "cell_type": "code",
   "execution_count": null,
   "id": "86a1e607",
   "metadata": {},
   "outputs": [],
   "source": []
  }
 ],
 "metadata": {
  "kernelspec": {
   "display_name": "PyCharm (pycharm_workspace)",
   "language": "python",
   "name": "pycharm-bad79110"
  },
  "language_info": {
   "codemirror_mode": {
    "name": "ipython",
    "version": 3
   },
   "file_extension": ".py",
   "mimetype": "text/x-python",
   "name": "python",
   "nbconvert_exporter": "python",
   "pygments_lexer": "ipython3",
   "version": "3.8.11"
  }
 },
 "nbformat": 4,
 "nbformat_minor": 5
}
